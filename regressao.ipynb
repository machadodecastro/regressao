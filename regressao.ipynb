from IPython.display import Image
Image('imagens/regression2.png')

